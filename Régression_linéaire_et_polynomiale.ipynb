{
  "nbformat": 4,
  "nbformat_minor": 0,
  "metadata": {
    "colab": {
      "provenance": []
    },
    "kernelspec": {
      "name": "python3",
      "display_name": "Python 3"
    },
    "language_info": {
      "name": "python"
    }
  },
  "cells": [
    {
      "cell_type": "code",
      "execution_count": null,
      "metadata": {
        "colab": {
          "base_uri": "https://localhost:8080/",
          "height": 206
        },
        "id": "aAIal9S-H0CP",
        "outputId": "56dd14a5-5256-44e3-8968-4ad4700e4828"
      },
      "outputs": [
        {
          "output_type": "execute_result",
          "data": {
            "text/plain": [
              "   sepal_length_in_cm  sepal_width_in_cm  petal_length_in_cm  \\\n",
              "0                 5.1                3.5                 1.4   \n",
              "1                 4.9                3.0                 1.4   \n",
              "2                 4.7                3.2                 1.3   \n",
              "3                 4.6                3.1                 1.5   \n",
              "4                 5.0                3.6                 1.4   \n",
              "\n",
              "   petal_width_in_cm        class  \n",
              "0                0.2  Iris-setosa  \n",
              "1                0.2  Iris-setosa  \n",
              "2                0.2  Iris-setosa  \n",
              "3                0.2  Iris-setosa  \n",
              "4                0.2  Iris-setosa  "
            ],
            "text/html": [
              "\n",
              "  <div id=\"df-2e94e1d7-9d63-4449-a47a-17d5e3f38ef3\" class=\"colab-df-container\">\n",
              "    <div>\n",
              "<style scoped>\n",
              "    .dataframe tbody tr th:only-of-type {\n",
              "        vertical-align: middle;\n",
              "    }\n",
              "\n",
              "    .dataframe tbody tr th {\n",
              "        vertical-align: top;\n",
              "    }\n",
              "\n",
              "    .dataframe thead th {\n",
              "        text-align: right;\n",
              "    }\n",
              "</style>\n",
              "<table border=\"1\" class=\"dataframe\">\n",
              "  <thead>\n",
              "    <tr style=\"text-align: right;\">\n",
              "      <th></th>\n",
              "      <th>sepal_length_in_cm</th>\n",
              "      <th>sepal_width_in_cm</th>\n",
              "      <th>petal_length_in_cm</th>\n",
              "      <th>petal_width_in_cm</th>\n",
              "      <th>class</th>\n",
              "    </tr>\n",
              "  </thead>\n",
              "  <tbody>\n",
              "    <tr>\n",
              "      <th>0</th>\n",
              "      <td>5.1</td>\n",
              "      <td>3.5</td>\n",
              "      <td>1.4</td>\n",
              "      <td>0.2</td>\n",
              "      <td>Iris-setosa</td>\n",
              "    </tr>\n",
              "    <tr>\n",
              "      <th>1</th>\n",
              "      <td>4.9</td>\n",
              "      <td>3.0</td>\n",
              "      <td>1.4</td>\n",
              "      <td>0.2</td>\n",
              "      <td>Iris-setosa</td>\n",
              "    </tr>\n",
              "    <tr>\n",
              "      <th>2</th>\n",
              "      <td>4.7</td>\n",
              "      <td>3.2</td>\n",
              "      <td>1.3</td>\n",
              "      <td>0.2</td>\n",
              "      <td>Iris-setosa</td>\n",
              "    </tr>\n",
              "    <tr>\n",
              "      <th>3</th>\n",
              "      <td>4.6</td>\n",
              "      <td>3.1</td>\n",
              "      <td>1.5</td>\n",
              "      <td>0.2</td>\n",
              "      <td>Iris-setosa</td>\n",
              "    </tr>\n",
              "    <tr>\n",
              "      <th>4</th>\n",
              "      <td>5.0</td>\n",
              "      <td>3.6</td>\n",
              "      <td>1.4</td>\n",
              "      <td>0.2</td>\n",
              "      <td>Iris-setosa</td>\n",
              "    </tr>\n",
              "  </tbody>\n",
              "</table>\n",
              "</div>\n",
              "    <div class=\"colab-df-buttons\">\n",
              "\n",
              "  <div class=\"colab-df-container\">\n",
              "    <button class=\"colab-df-convert\" onclick=\"convertToInteractive('df-2e94e1d7-9d63-4449-a47a-17d5e3f38ef3')\"\n",
              "            title=\"Convert this dataframe to an interactive table.\"\n",
              "            style=\"display:none;\">\n",
              "\n",
              "  <svg xmlns=\"http://www.w3.org/2000/svg\" height=\"24px\" viewBox=\"0 -960 960 960\">\n",
              "    <path d=\"M120-120v-720h720v720H120Zm60-500h600v-160H180v160Zm220 220h160v-160H400v160Zm0 220h160v-160H400v160ZM180-400h160v-160H180v160Zm440 0h160v-160H620v160ZM180-180h160v-160H180v160Zm440 0h160v-160H620v160Z\"/>\n",
              "  </svg>\n",
              "    </button>\n",
              "\n",
              "  <style>\n",
              "    .colab-df-container {\n",
              "      display:flex;\n",
              "      gap: 12px;\n",
              "    }\n",
              "\n",
              "    .colab-df-convert {\n",
              "      background-color: #E8F0FE;\n",
              "      border: none;\n",
              "      border-radius: 50%;\n",
              "      cursor: pointer;\n",
              "      display: none;\n",
              "      fill: #1967D2;\n",
              "      height: 32px;\n",
              "      padding: 0 0 0 0;\n",
              "      width: 32px;\n",
              "    }\n",
              "\n",
              "    .colab-df-convert:hover {\n",
              "      background-color: #E2EBFA;\n",
              "      box-shadow: 0px 1px 2px rgba(60, 64, 67, 0.3), 0px 1px 3px 1px rgba(60, 64, 67, 0.15);\n",
              "      fill: #174EA6;\n",
              "    }\n",
              "\n",
              "    .colab-df-buttons div {\n",
              "      margin-bottom: 4px;\n",
              "    }\n",
              "\n",
              "    [theme=dark] .colab-df-convert {\n",
              "      background-color: #3B4455;\n",
              "      fill: #D2E3FC;\n",
              "    }\n",
              "\n",
              "    [theme=dark] .colab-df-convert:hover {\n",
              "      background-color: #434B5C;\n",
              "      box-shadow: 0px 1px 3px 1px rgba(0, 0, 0, 0.15);\n",
              "      filter: drop-shadow(0px 1px 2px rgba(0, 0, 0, 0.3));\n",
              "      fill: #FFFFFF;\n",
              "    }\n",
              "  </style>\n",
              "\n",
              "    <script>\n",
              "      const buttonEl =\n",
              "        document.querySelector('#df-2e94e1d7-9d63-4449-a47a-17d5e3f38ef3 button.colab-df-convert');\n",
              "      buttonEl.style.display =\n",
              "        google.colab.kernel.accessAllowed ? 'block' : 'none';\n",
              "\n",
              "      async function convertToInteractive(key) {\n",
              "        const element = document.querySelector('#df-2e94e1d7-9d63-4449-a47a-17d5e3f38ef3');\n",
              "        const dataTable =\n",
              "          await google.colab.kernel.invokeFunction('convertToInteractive',\n",
              "                                                    [key], {});\n",
              "        if (!dataTable) return;\n",
              "\n",
              "        const docLinkHtml = 'Like what you see? Visit the ' +\n",
              "          '<a target=\"_blank\" href=https://colab.research.google.com/notebooks/data_table.ipynb>data table notebook</a>'\n",
              "          + ' to learn more about interactive tables.';\n",
              "        element.innerHTML = '';\n",
              "        dataTable['output_type'] = 'display_data';\n",
              "        await google.colab.output.renderOutput(dataTable, element);\n",
              "        const docLink = document.createElement('div');\n",
              "        docLink.innerHTML = docLinkHtml;\n",
              "        element.appendChild(docLink);\n",
              "      }\n",
              "    </script>\n",
              "  </div>\n",
              "\n",
              "\n",
              "<div id=\"df-97c0a1f7-24a8-4b7e-8396-e861261950f0\">\n",
              "  <button class=\"colab-df-quickchart\" onclick=\"quickchart('df-97c0a1f7-24a8-4b7e-8396-e861261950f0')\"\n",
              "            title=\"Suggest charts\"\n",
              "            style=\"display:none;\">\n",
              "\n",
              "<svg xmlns=\"http://www.w3.org/2000/svg\" height=\"24px\"viewBox=\"0 0 24 24\"\n",
              "     width=\"24px\">\n",
              "    <g>\n",
              "        <path d=\"M19 3H5c-1.1 0-2 .9-2 2v14c0 1.1.9 2 2 2h14c1.1 0 2-.9 2-2V5c0-1.1-.9-2-2-2zM9 17H7v-7h2v7zm4 0h-2V7h2v10zm4 0h-2v-4h2v4z\"/>\n",
              "    </g>\n",
              "</svg>\n",
              "  </button>\n",
              "\n",
              "<style>\n",
              "  .colab-df-quickchart {\n",
              "      --bg-color: #E8F0FE;\n",
              "      --fill-color: #1967D2;\n",
              "      --hover-bg-color: #E2EBFA;\n",
              "      --hover-fill-color: #174EA6;\n",
              "      --disabled-fill-color: #AAA;\n",
              "      --disabled-bg-color: #DDD;\n",
              "  }\n",
              "\n",
              "  [theme=dark] .colab-df-quickchart {\n",
              "      --bg-color: #3B4455;\n",
              "      --fill-color: #D2E3FC;\n",
              "      --hover-bg-color: #434B5C;\n",
              "      --hover-fill-color: #FFFFFF;\n",
              "      --disabled-bg-color: #3B4455;\n",
              "      --disabled-fill-color: #666;\n",
              "  }\n",
              "\n",
              "  .colab-df-quickchart {\n",
              "    background-color: var(--bg-color);\n",
              "    border: none;\n",
              "    border-radius: 50%;\n",
              "    cursor: pointer;\n",
              "    display: none;\n",
              "    fill: var(--fill-color);\n",
              "    height: 32px;\n",
              "    padding: 0;\n",
              "    width: 32px;\n",
              "  }\n",
              "\n",
              "  .colab-df-quickchart:hover {\n",
              "    background-color: var(--hover-bg-color);\n",
              "    box-shadow: 0 1px 2px rgba(60, 64, 67, 0.3), 0 1px 3px 1px rgba(60, 64, 67, 0.15);\n",
              "    fill: var(--button-hover-fill-color);\n",
              "  }\n",
              "\n",
              "  .colab-df-quickchart-complete:disabled,\n",
              "  .colab-df-quickchart-complete:disabled:hover {\n",
              "    background-color: var(--disabled-bg-color);\n",
              "    fill: var(--disabled-fill-color);\n",
              "    box-shadow: none;\n",
              "  }\n",
              "\n",
              "  .colab-df-spinner {\n",
              "    border: 2px solid var(--fill-color);\n",
              "    border-color: transparent;\n",
              "    border-bottom-color: var(--fill-color);\n",
              "    animation:\n",
              "      spin 1s steps(1) infinite;\n",
              "  }\n",
              "\n",
              "  @keyframes spin {\n",
              "    0% {\n",
              "      border-color: transparent;\n",
              "      border-bottom-color: var(--fill-color);\n",
              "      border-left-color: var(--fill-color);\n",
              "    }\n",
              "    20% {\n",
              "      border-color: transparent;\n",
              "      border-left-color: var(--fill-color);\n",
              "      border-top-color: var(--fill-color);\n",
              "    }\n",
              "    30% {\n",
              "      border-color: transparent;\n",
              "      border-left-color: var(--fill-color);\n",
              "      border-top-color: var(--fill-color);\n",
              "      border-right-color: var(--fill-color);\n",
              "    }\n",
              "    40% {\n",
              "      border-color: transparent;\n",
              "      border-right-color: var(--fill-color);\n",
              "      border-top-color: var(--fill-color);\n",
              "    }\n",
              "    60% {\n",
              "      border-color: transparent;\n",
              "      border-right-color: var(--fill-color);\n",
              "    }\n",
              "    80% {\n",
              "      border-color: transparent;\n",
              "      border-right-color: var(--fill-color);\n",
              "      border-bottom-color: var(--fill-color);\n",
              "    }\n",
              "    90% {\n",
              "      border-color: transparent;\n",
              "      border-bottom-color: var(--fill-color);\n",
              "    }\n",
              "  }\n",
              "</style>\n",
              "\n",
              "  <script>\n",
              "    async function quickchart(key) {\n",
              "      const quickchartButtonEl =\n",
              "        document.querySelector('#' + key + ' button');\n",
              "      quickchartButtonEl.disabled = true;  // To prevent multiple clicks.\n",
              "      quickchartButtonEl.classList.add('colab-df-spinner');\n",
              "      try {\n",
              "        const charts = await google.colab.kernel.invokeFunction(\n",
              "            'suggestCharts', [key], {});\n",
              "      } catch (error) {\n",
              "        console.error('Error during call to suggestCharts:', error);\n",
              "      }\n",
              "      quickchartButtonEl.classList.remove('colab-df-spinner');\n",
              "      quickchartButtonEl.classList.add('colab-df-quickchart-complete');\n",
              "    }\n",
              "    (() => {\n",
              "      let quickchartButtonEl =\n",
              "        document.querySelector('#df-97c0a1f7-24a8-4b7e-8396-e861261950f0 button');\n",
              "      quickchartButtonEl.style.display =\n",
              "        google.colab.kernel.accessAllowed ? 'block' : 'none';\n",
              "    })();\n",
              "  </script>\n",
              "</div>\n",
              "    </div>\n",
              "  </div>\n"
            ],
            "application/vnd.google.colaboratory.intrinsic+json": {
              "type": "dataframe",
              "variable_name": "data",
              "summary": "{\n  \"name\": \"data\",\n  \"rows\": 150,\n  \"fields\": [\n    {\n      \"column\": \"sepal_length_in_cm\",\n      \"properties\": {\n        \"dtype\": \"number\",\n        \"std\": 0.828066127977863,\n        \"min\": 4.3,\n        \"max\": 7.9,\n        \"num_unique_values\": 35,\n        \"samples\": [\n          6.2,\n          4.5,\n          5.6\n        ],\n        \"semantic_type\": \"\",\n        \"description\": \"\"\n      }\n    },\n    {\n      \"column\": \"sepal_width_in_cm\",\n      \"properties\": {\n        \"dtype\": \"number\",\n        \"std\": 0.4335943113621737,\n        \"min\": 2.0,\n        \"max\": 4.4,\n        \"num_unique_values\": 23,\n        \"samples\": [\n          2.3,\n          4.0,\n          3.5\n        ],\n        \"semantic_type\": \"\",\n        \"description\": \"\"\n      }\n    },\n    {\n      \"column\": \"petal_length_in_cm\",\n      \"properties\": {\n        \"dtype\": \"number\",\n        \"std\": 1.7644204199522626,\n        \"min\": 1.0,\n        \"max\": 6.9,\n        \"num_unique_values\": 43,\n        \"samples\": [\n          6.7,\n          3.8,\n          3.7\n        ],\n        \"semantic_type\": \"\",\n        \"description\": \"\"\n      }\n    },\n    {\n      \"column\": \"petal_width_in_cm\",\n      \"properties\": {\n        \"dtype\": \"number\",\n        \"std\": 0.7631607417008411,\n        \"min\": 0.1,\n        \"max\": 2.5,\n        \"num_unique_values\": 22,\n        \"samples\": [\n          0.2,\n          1.2,\n          1.3\n        ],\n        \"semantic_type\": \"\",\n        \"description\": \"\"\n      }\n    },\n    {\n      \"column\": \"class\",\n      \"properties\": {\n        \"dtype\": \"category\",\n        \"num_unique_values\": 3,\n        \"samples\": [\n          \"Iris-setosa\",\n          \"Iris-versicolor\",\n          \"Iris-virginica\"\n        ],\n        \"semantic_type\": \"\",\n        \"description\": \"\"\n      }\n    }\n  ]\n}"
            }
          },
          "metadata": {},
          "execution_count": 1
        }
      ],
      "source": [
        "#Exercice 1\n",
        "import pandas as pd\n",
        "data = pd.read_csv(\"iris.csv\")\n",
        "data.head()"
      ]
    },
    {
      "cell_type": "code",
      "source": [
        "import numpy as np\n",
        "\n",
        "def coeff(X, y):\n",
        "    m = len(X)\n",
        "    x_mean = np.mean(X)\n",
        "    y_mean = np.mean(y)\n",
        "\n",
        "    a = np.sum((X - x_mean) * (y - y_mean)) / np.sum((X - x_mean) ** 2)\n",
        "    b = y_mean - a * x_mean\n",
        "\n",
        "    return a, b\n"
      ],
      "metadata": {
        "id": "Xy9EeVp3JeDU"
      },
      "execution_count": null,
      "outputs": []
    },
    {
      "cell_type": "code",
      "source": [
        "def afficher_valeurs_obs(X, y):\n",
        "    print(\"Valeurs Observées:\")\n",
        "    for i in range(len(X)):\n",
        "        print(f\"X={X[i]}, Y={y[i]}\")"
      ],
      "metadata": {
        "id": "6Mcr0JsiJoQx"
      },
      "execution_count": null,
      "outputs": []
    },
    {
      "cell_type": "code",
      "source": [
        "def predict(X_new, a, b):\n",
        "    return a * X_new + b"
      ],
      "metadata": {
        "id": "3yH-kmo5J4vh"
      },
      "execution_count": null,
      "outputs": []
    },
    {
      "cell_type": "code",
      "source": [
        "def afficher_valeurs_predites_model(X, Y_predit):\n",
        "    print(\"Valeurs Prédites:\")\n",
        "    for i in range(len(X)):\n",
        "        print(f\"X={X[i]}, Y_prédit={Y_predit[i]}\")"
      ],
      "metadata": {
        "id": "DJJNrCi_J_sM"
      },
      "execution_count": null,
      "outputs": []
    },
    {
      "cell_type": "code",
      "source": [
        "# Charger les données Iris\n",
        "from sklearn.datasets import load_iris\n",
        "\n",
        "iris = load_iris()\n",
        "X_iris = iris.data[:, 0]\n",
        "y_iris = iris.target"
      ],
      "metadata": {
        "id": "8mDjZIMMKFqL"
      },
      "execution_count": null,
      "outputs": []
    },
    {
      "cell_type": "code",
      "source": [
        "#Visualiser les données sous forme de nuage de points\n",
        "import matplotlib.pyplot as plt\n",
        "\n",
        "plt.scatter(X_iris, y_iris)\n",
        "plt.xlabel(\"Sepal Length (cm)\")\n",
        "plt.ylabel(\"Species\")\n",
        "plt.title(\"Iris Dataset - Sepal Length vs Species\")\n",
        "plt.show()\n"
      ],
      "metadata": {
        "colab": {
          "base_uri": "https://localhost:8080/",
          "height": 472
        },
        "id": "5wzkn7sVKaHv",
        "outputId": "ff4caff7-e737-49a4-cb29-f0191616fd54"
      },
      "execution_count": null,
      "outputs": [
        {
          "output_type": "display_data",
          "data": {
            "text/plain": [
              "<Figure size 640x480 with 1 Axes>"
            ],
            "image/png": "[encoded data removed]"
          },
          "metadata": {}
        }
      ]
    },
    {
      "cell_type": "code",
      "source": [
        "#Appliquer le modèle de régression implémenté sur les données Iris\n",
        "a_iris, b_iris = coeff(X_iris, y_iris)\n",
        "Y_predit_iris = predict(X_iris, a_iris, b_iris)\n"
      ],
      "metadata": {
        "id": "AhbGrLsoKfh_"
      },
      "execution_count": null,
      "outputs": []
    },
    {
      "cell_type": "code",
      "source": [
        "afficher_valeurs_predites_model(X_iris, Y_predit_iris)"
      ],
      "metadata": {
        "colab": {
          "base_uri": "https://localhost:8080/"
        },
        "id": "27k2d5WtKjgU",
        "outputId": "c559ec69-32c0-46be-af49-fef9a4375af1"
      },
      "execution_count": null,
      "outputs": [
        {
          "output_type": "stream",
          "name": "stdout",
          "text": [
            "Valeurs Prédites:\n",
            "X=5.1, Y_prédit=0.4245020472749217\n",
            "X=4.9, Y_prédit=0.2696595487838698\n",
            "X=4.7, Y_prédit=0.11481705029281741\n",
            "X=4.6, Y_prédit=0.03739580104729079\n",
            "X=5.0, Y_prédit=0.34708079802939595\n",
            "X=5.4, Y_prédit=0.6567657950115011\n",
            "X=4.6, Y_prédit=0.03739580104729079\n",
            "X=5.0, Y_prédit=0.34708079802939595\n",
            "X=4.4, Y_prédit=-0.11744669744376068\n",
            "X=4.9, Y_prédit=0.2696595487838698\n",
            "X=5.4, Y_prédit=0.6567657950115011\n",
            "X=4.8, Y_prédit=0.19223829953834315\n",
            "X=4.8, Y_prédit=0.19223829953834315\n",
            "X=4.3, Y_prédit=-0.1948679466892873\n",
            "X=5.8, Y_prédit=0.966450791993605\n",
            "X=5.7, Y_prédit=0.8890295427480792\n",
            "X=5.4, Y_prédit=0.6567657950115011\n",
            "X=5.1, Y_prédit=0.4245020472749217\n",
            "X=5.7, Y_prédit=0.8890295427480792\n",
            "X=5.1, Y_prédit=0.4245020472749217\n",
            "X=5.4, Y_prédit=0.6567657950115011\n",
            "X=5.1, Y_prédit=0.4245020472749217\n",
            "X=4.6, Y_prédit=0.03739580104729079\n",
            "X=5.1, Y_prédit=0.4245020472749217\n",
            "X=4.8, Y_prédit=0.19223829953834315\n",
            "X=5.0, Y_prédit=0.34708079802939595\n",
            "X=5.0, Y_prédit=0.34708079802939595\n",
            "X=5.2, Y_prédit=0.5019232965204488\n",
            "X=5.2, Y_prédit=0.5019232965204488\n",
            "X=4.7, Y_prédit=0.11481705029281741\n",
            "X=4.8, Y_prédit=0.19223829953834315\n",
            "X=5.4, Y_prédit=0.6567657950115011\n",
            "X=5.2, Y_prédit=0.5019232965204488\n",
            "X=5.5, Y_prédit=0.7341870442570269\n",
            "X=4.9, Y_prédit=0.2696595487838698\n",
            "X=5.0, Y_prédit=0.34708079802939595\n",
            "X=5.5, Y_prédit=0.7341870442570269\n",
            "X=4.9, Y_prédit=0.2696595487838698\n",
            "X=4.4, Y_prédit=-0.11744669744376068\n",
            "X=5.1, Y_prédit=0.4245020472749217\n",
            "X=5.0, Y_prédit=0.34708079802939595\n",
            "X=4.5, Y_prédit=-0.04002544819823495\n",
            "X=4.4, Y_prédit=-0.11744669744376068\n",
            "X=5.0, Y_prédit=0.34708079802939595\n",
            "X=5.1, Y_prédit=0.4245020472749217\n",
            "X=4.8, Y_prédit=0.19223829953834315\n",
            "X=5.1, Y_prédit=0.4245020472749217\n",
            "X=4.6, Y_prédit=0.03739580104729079\n",
            "X=5.3, Y_prédit=0.5793445457659745\n",
            "X=5.0, Y_prédit=0.34708079802939595\n",
            "X=7.0, Y_prédit=1.8955057829399191\n",
            "X=6.4, Y_prédit=1.430978287466763\n",
            "X=6.9, Y_prédit=1.8180845336943934\n",
            "X=5.5, Y_prédit=0.7341870442570269\n",
            "X=6.5, Y_prédit=1.5083995367122887\n",
            "X=5.7, Y_prédit=0.8890295427480792\n",
            "X=6.3, Y_prédit=1.3535570382212363\n",
            "X=4.9, Y_prédit=0.2696595487838698\n",
            "X=6.6, Y_prédit=1.5858207859578144\n",
            "X=5.2, Y_prédit=0.5019232965204488\n",
            "X=5.0, Y_prédit=0.34708079802939595\n",
            "X=5.9, Y_prédit=1.0438720412391316\n",
            "X=6.0, Y_prédit=1.1212932904846573\n",
            "X=6.1, Y_prédit=1.198714539730183\n",
            "X=5.6, Y_prédit=0.8116082935025526\n",
            "X=6.7, Y_prédit=1.663242035203341\n",
            "X=5.6, Y_prédit=0.8116082935025526\n",
            "X=5.8, Y_prédit=0.966450791993605\n",
            "X=6.2, Y_prédit=1.2761357889757097\n",
            "X=5.6, Y_prédit=0.8116082935025526\n",
            "X=5.9, Y_prédit=1.0438720412391316\n",
            "X=6.1, Y_prédit=1.198714539730183\n",
            "X=6.3, Y_prédit=1.3535570382212363\n",
            "X=6.1, Y_prédit=1.198714539730183\n",
            "X=6.4, Y_prédit=1.430978287466763\n",
            "X=6.6, Y_prédit=1.5858207859578144\n",
            "X=6.8, Y_prédit=1.7406632844488668\n",
            "X=6.7, Y_prédit=1.663242035203341\n",
            "X=6.0, Y_prédit=1.1212932904846573\n",
            "X=5.7, Y_prédit=0.8890295427480792\n",
            "X=5.5, Y_prédit=0.7341870442570269\n",
            "X=5.5, Y_prédit=0.7341870442570269\n",
            "X=5.8, Y_prédit=0.966450791993605\n",
            "X=6.0, Y_prédit=1.1212932904846573\n",
            "X=5.4, Y_prédit=0.6567657950115011\n",
            "X=6.0, Y_prédit=1.1212932904846573\n",
            "X=6.7, Y_prédit=1.663242035203341\n",
            "X=6.3, Y_prédit=1.3535570382212363\n",
            "X=5.6, Y_prédit=0.8116082935025526\n",
            "X=5.5, Y_prédit=0.7341870442570269\n",
            "X=5.5, Y_prédit=0.7341870442570269\n",
            "X=6.1, Y_prédit=1.198714539730183\n",
            "X=5.8, Y_prédit=0.966450791993605\n",
            "X=5.0, Y_prédit=0.34708079802939595\n",
            "X=5.6, Y_prédit=0.8116082935025526\n",
            "X=5.7, Y_prédit=0.8890295427480792\n",
            "X=5.7, Y_prédit=0.8890295427480792\n",
            "X=6.2, Y_prédit=1.2761357889757097\n",
            "X=5.1, Y_prédit=0.4245020472749217\n",
            "X=5.7, Y_prédit=0.8890295427480792\n",
            "X=6.3, Y_prédit=1.3535570382212363\n",
            "X=5.8, Y_prédit=0.966450791993605\n",
            "X=7.1, Y_prédit=1.9729270321854449\n",
            "X=6.3, Y_prédit=1.3535570382212363\n",
            "X=6.5, Y_prédit=1.5083995367122887\n",
            "X=7.6, Y_prédit=2.360033278413076\n",
            "X=4.9, Y_prédit=0.2696595487838698\n",
            "X=7.3, Y_prédit=2.127769530676497\n",
            "X=6.7, Y_prédit=1.663242035203341\n",
            "X=7.2, Y_prédit=2.0503482814309715\n",
            "X=6.5, Y_prédit=1.5083995367122887\n",
            "X=6.4, Y_prédit=1.430978287466763\n",
            "X=6.8, Y_prédit=1.7406632844488668\n",
            "X=5.7, Y_prédit=0.8890295427480792\n",
            "X=5.8, Y_prédit=0.966450791993605\n",
            "X=6.4, Y_prédit=1.430978287466763\n",
            "X=6.5, Y_prédit=1.5083995367122887\n",
            "X=7.7, Y_prédit=2.437454527658603\n",
            "X=7.7, Y_prédit=2.437454527658603\n",
            "X=6.0, Y_prédit=1.1212932904846573\n",
            "X=6.9, Y_prédit=1.8180845336943934\n",
            "X=5.6, Y_prédit=0.8116082935025526\n",
            "X=7.7, Y_prédit=2.437454527658603\n",
            "X=6.3, Y_prédit=1.3535570382212363\n",
            "X=6.7, Y_prédit=1.663242035203341\n",
            "X=7.2, Y_prédit=2.0503482814309715\n",
            "X=6.2, Y_prédit=1.2761357889757097\n",
            "X=6.1, Y_prédit=1.198714539730183\n",
            "X=6.4, Y_prédit=1.430978287466763\n",
            "X=7.2, Y_prédit=2.0503482814309715\n",
            "X=7.4, Y_prédit=2.205190779922024\n",
            "X=7.9, Y_prédit=2.592297026149655\n",
            "X=6.4, Y_prédit=1.430978287466763\n",
            "X=6.3, Y_prédit=1.3535570382212363\n",
            "X=6.1, Y_prédit=1.198714539730183\n",
            "X=7.7, Y_prédit=2.437454527658603\n",
            "X=6.3, Y_prédit=1.3535570382212363\n",
            "X=6.4, Y_prédit=1.430978287466763\n",
            "X=6.0, Y_prédit=1.1212932904846573\n",
            "X=6.9, Y_prédit=1.8180845336943934\n",
            "X=6.7, Y_prédit=1.663242035203341\n",
            "X=6.9, Y_prédit=1.8180845336943934\n",
            "X=5.8, Y_prédit=0.966450791993605\n",
            "X=6.8, Y_prédit=1.7406632844488668\n",
            "X=6.7, Y_prédit=1.663242035203341\n",
            "X=6.7, Y_prédit=1.663242035203341\n",
            "X=6.3, Y_prédit=1.3535570382212363\n",
            "X=6.5, Y_prédit=1.5083995367122887\n",
            "X=6.2, Y_prédit=1.2761357889757097\n",
            "X=5.9, Y_prédit=1.0438720412391316\n"
          ]
        }
      ]
    },
    {
      "cell_type": "code",
      "source": [
        "# Evaluation du modèle\n",
        "def MSE(y_true, y_pred):\n",
        "    return np.mean((y_true - y_pred) ** 2)\n",
        "\n",
        "def R2(y_true, y_pred):\n",
        "    SS_res = np.sum((y_true - y_pred) ** 2)\n",
        "    SS_tot = np.sum((y_true - np.mean(y_true)) ** 2)\n",
        "    return 1 - (SS_res / SS_tot)\n",
        "\n",
        "mse_iris = MSE(y_iris, Y_predit_iris)\n",
        "r2_iris = R2(y_iris, Y_predit_iris)\n",
        "print(\"MSE:\", mse_iris)\n",
        "print(\"R2 Score:\", r2_iris)"
      ],
      "metadata": {
        "colab": {
          "base_uri": "https://localhost:8080/"
        },
        "id": "lQKZBhaFKoUJ",
        "outputId": "f046d766-cb7e-4772-db85-cae6f0c33719"
      },
      "execution_count": null,
      "outputs": [
        {
          "output_type": "stream",
          "name": "stdout",
          "text": [
            "MSE: 0.25839861231192535\n",
            "R2 Score: 0.6124020815321121\n"
          ]
        }
      ]
    },
    {
      "cell_type": "code",
      "source": [
        "#Exercice 2\n",
        "import numpy as np\n",
        "import matplotlib.pyplot as plt\n",
        "from sklearn.preprocessing import PolynomialFeatures\n",
        "from sklearn.linear_model import LinearRegression\n",
        "from sklearn.metrics import mean_squared_error"
      ],
      "metadata": {
        "id": "sYW6h-FAKxM4"
      },
      "execution_count": null,
      "outputs": []
    },
    {
      "cell_type": "code",
      "source": [
        "X = 6 * np.random.rand(100, 1) - 3\n",
        "y = 0.5 * X**2 + X + 2 + np.random.randn(100, 1)"
      ],
      "metadata": {
        "id": "lHKT3RYfLQZS"
      },
      "execution_count": null,
      "outputs": []
    },
    {
      "cell_type": "code",
      "source": [
        "# 1. Représenter les données sous forme de nuage de points\n",
        "plt.scatter(X, y)\n",
        "plt.title(\"Données Générées Aléatoirement\")\n",
        "plt.xlabel(\"X\")\n",
        "plt.ylabel(\"y\")\n",
        "plt.show()"
      ],
      "metadata": {
        "colab": {
          "base_uri": "https://localhost:8080/",
          "height": 472
        },
        "id": "BWm8d26eLUFg",
        "outputId": "9cef91a4-f6a7-45e3-a6c8-2915c2634ecc"
      },
      "execution_count": null,
      "outputs": [
        {
          "output_type": "display_data",
          "data": {
            "text/plain": [
              "<Figure size 640x480 with 1 Axes>"
            ],
            "image/png": "[encoded data removed]"
          },
          "metadata": {}
        }
      ]
    },
    {
      "cell_type": "code",
      "source": [
        "# 2. Transformer les données en ajoutant les carrés des variables\n",
        "poly_features = PolynomialFeatures(degree=2, include_bias=False)\n",
        "X_poly = poly_features.fit_transform(X)"
      ],
      "metadata": {
        "id": "Fv4u1HmGLXvM"
      },
      "execution_count": null,
      "outputs": []
    },
    {
      "cell_type": "code",
      "source": [
        "# 3. Appliquer un modèle de régression linéaire sur les données transformées\n",
        "lin_reg = LinearRegression()\n",
        "lin_reg.fit(X_poly, y)\n"
      ],
      "metadata": {
        "colab": {
          "base_uri": "https://localhost:8080/",
          "height": 75
        },
        "id": "pr4nXFLlLb1f",
        "outputId": "91a925db-c4ae-427f-be8f-c50bb395f65e"
      },
      "execution_count": null,
      "outputs": [
        {
          "output_type": "execute_result",
          "data": {
            "text/plain": [
              "LinearRegression()"
            ],
            "text/html": [
              "<style>#sk-container-id-1 {color: black;background-color: white;}#sk-container-id-1 pre{padding: 0;}#sk-container-id-1 div.sk-toggleable {background-color: white;}#sk-container-id-1 label.sk-toggleable__label {cursor: pointer;display: block;width: 100%;margin-bottom: 0;padding: 0.3em;box-sizing: border-box;text-align: center;}#sk-container-id-1 label.sk-toggleable__label-arrow:before {content: \"▸\";float: left;margin-right: 0.25em;color: #696969;}#sk-container-id-1 label.sk-toggleable__label-arrow:hover:before {color: black;}#sk-container-id-1 div.sk-estimator:hover label.sk-toggleable__label-arrow:before {color: black;}#sk-container-id-1 div.sk-toggleable__content {max-height: 0;max-width: 0;overflow: hidden;text-align: left;background-color: #f0f8ff;}#sk-container-id-1 div.sk-toggleable__content pre {margin: 0.2em;color: black;border-radius: 0.25em;background-color: #f0f8ff;}#sk-container-id-1 input.sk-toggleable__control:checked~div.sk-toggleable__content {max-height: 200px;max-width: 100%;overflow: auto;}#sk-container-id-1 input.sk-toggleable__control:checked~label.sk-toggleable__label-arrow:before {content: \"▾\";}#sk-container-id-1 div.sk-estimator input.sk-toggleable__control:checked~label.sk-toggleable__label {background-color: #d4ebff;}#sk-container-id-1 div.sk-label input.sk-toggleable__control:checked~label.sk-toggleable__label {background-color: #d4ebff;}#sk-container-id-1 input.sk-hidden--visually {border: 0;clip: rect(1px 1px 1px 1px);clip: rect(1px, 1px, 1px, 1px);height: 1px;margin: -1px;overflow: hidden;padding: 0;position: absolute;width: 1px;}#sk-container-id-1 div.sk-estimator {font-family: monospace;background-color: #f0f8ff;border: 1px dotted black;border-radius: 0.25em;box-sizing: border-box;margin-bottom: 0.5em;}#sk-container-id-1 div.sk-estimator:hover {background-color: #d4ebff;}#sk-container-id-1 div.sk-parallel-item::after {content: \"\";width: 100%;border-bottom: 1px solid gray;flex-grow: 1;}#sk-container-id-1 div.sk-label:hover label.sk-toggleable__label {background-color: #d4ebff;}#sk-container-id-1 div.sk-serial::before {content: \"\";position: absolute;border-left: 1px solid gray;box-sizing: border-box;top: 0;bottom: 0;left: 50%;z-index: 0;}#sk-container-id-1 div.sk-serial {display: flex;flex-direction: column;align-items: center;background-color: white;padding-right: 0.2em;padding-left: 0.2em;position: relative;}#sk-container-id-1 div.sk-item {position: relative;z-index: 1;}#sk-container-id-1 div.sk-parallel {display: flex;align-items: stretch;justify-content: center;background-color: white;position: relative;}#sk-container-id-1 div.sk-item::before, #sk-container-id-1 div.sk-parallel-item::before {content: \"\";position: absolute;border-left: 1px solid gray;box-sizing: border-box;top: 0;bottom: 0;left: 50%;z-index: -1;}#sk-container-id-1 div.sk-parallel-item {display: flex;flex-direction: column;z-index: 1;position: relative;background-color: white;}#sk-container-id-1 div.sk-parallel-item:first-child::after {align-self: flex-end;width: 50%;}#sk-container-id-1 div.sk-parallel-item:last-child::after {align-self: flex-start;width: 50%;}#sk-container-id-1 div.sk-parallel-item:only-child::after {width: 0;}#sk-container-id-1 div.sk-dashed-wrapped {border: 1px dashed gray;margin: 0 0.4em 0.5em 0.4em;box-sizing: border-box;padding-bottom: 0.4em;background-color: white;}#sk-container-id-1 div.sk-label label {font-family: monospace;font-weight: bold;display: inline-block;line-height: 1.2em;}#sk-container-id-1 div.sk-label-container {text-align: center;}#sk-container-id-1 div.sk-container {/* jupyter's `normalize.less` sets `[hidden] { display: none; }` but bootstrap.min.css set `[hidden] { display: none !important; }` so we also need the `!important` here to be able to override the default hidden behavior on the sphinx rendered scikit-learn.org. See: https://github.com/scikit-learn/scikit-learn/issues/21755 */display: inline-block !important;position: relative;}#sk-container-id-1 div.sk-text-repr-fallback {display: none;}</style><div id=\"sk-container-id-1\" class=\"sk-top-container\"><div class=\"sk-text-repr-fallback\"><pre>LinearRegression()</pre><b>In a Jupyter environment, please rerun this cell to show the HTML representation or trust the notebook. <br />On GitHub, the HTML representation is unable to render, please try loading this page with nbviewer.org.</b></div><div class=\"sk-container\" hidden><div class=\"sk-item\"><div class=\"sk-estimator sk-toggleable\"><input class=\"sk-toggleable__control sk-hidden--visually\" id=\"sk-estimator-id-1\" type=\"checkbox\" checked><label for=\"sk-estimator-id-1\" class=\"sk-toggleable__label sk-toggleable__label-arrow\">LinearRegression</label><div class=\"sk-toggleable__content\"><pre>LinearRegression()</pre></div></div></div></div></div>"
            ]
          },
          "metadata": {},
          "execution_count": 16
        }
      ]
    },
    {
      "cell_type": "code",
      "source": [
        "print(\"Coefficients du modèle:\", lin_reg.coef_)\n",
        "print(\"Intercept du modèle:\", lin_reg.intercept_)"
      ],
      "metadata": {
        "colab": {
          "base_uri": "https://localhost:8080/"
        },
        "id": "xfNdjj0_LgNG",
        "outputId": "25c3aac4-ff35-4a06-d385-7ec1c1624bec"
      },
      "execution_count": null,
      "outputs": [
        {
          "output_type": "stream",
          "name": "stdout",
          "text": [
            "Coefficients du modèle: [[0.96680858 0.47835838]]\n",
            "Intercept du modèle: [2.1242224]\n"
          ]
        }
      ]
    },
    {
      "cell_type": "code",
      "source": [
        "# 4. Générer de nouvelles données pour le test\n",
        "X_new = np.linspace(-3, 3, 100).reshape(100, 1)\n",
        "X_new_poly = poly_features.transform(X_new)\n"
      ],
      "metadata": {
        "id": "IL1C7vxFLknz"
      },
      "execution_count": null,
      "outputs": []
    },
    {
      "cell_type": "code",
      "source": [
        "# 5. Calculer les valeurs prédites Y_predit et affichier le modéle obtenu\n",
        "def predict_values(X_poly, coeff, b):\n",
        "    return np.dot(X_poly, coeff.T) + b\n",
        "\n",
        "Y_predit = predict_values(X_new_poly, lin_reg.coef_, lin_reg.intercept_)\n"
      ],
      "metadata": {
        "id": "hJTCsYTXLnx_"
      },
      "execution_count": null,
      "outputs": []
    },
    {
      "cell_type": "code",
      "source": [
        "plt.scatter(X, y)\n",
        "plt.plot(X_new, Y_predit, 'r-', label='Modèle obtenu')\n",
        "plt.title(\"Régression Polynomiale - Modèle obtenu\")\n",
        "plt.xlabel(\"X\")\n",
        "plt.ylabel(\"y\")\n",
        "plt.legend()\n",
        "plt.show()\n"
      ],
      "metadata": {
        "colab": {
          "base_uri": "https://localhost:8080/",
          "height": 472
        },
        "id": "lAu9Kx6sLtuL",
        "outputId": "c62b04b0-6a09-4b29-9b87-192fa981ecc0"
      },
      "execution_count": null,
      "outputs": [
        {
          "output_type": "display_data",
          "data": {
            "text/plain": [
              "<Figure size 640x480 with 1 Axes>"
            ],
            "image/png": "[encoded data removed]"
          },
          "metadata": {}
        }
      ]
    },
    {
      "cell_type": "code",
      "source": [
        "# 6. Calculer MSE\n",
        "def MSE(y_true, y_pred):\n",
        "    return np.mean((y_true - y_pred) ** 2)\n",
        "\n",
        "mse_custom = MSE(y, predict_values(X_poly, lin_reg.coef_, lin_reg.intercept_))\n",
        "print(\"MSE (calculé manuellement):\", mse_custom)\n"
      ],
      "metadata": {
        "colab": {
          "base_uri": "https://localhost:8080/"
        },
        "id": "nwr0xgbGL4kN",
        "outputId": "649c1f53-b86f-48c5-dd87-e4c99c9a01ba"
      },
      "execution_count": null,
      "outputs": [
        {
          "output_type": "stream",
          "name": "stdout",
          "text": [
            "MSE (calculé manuellement): 0.9268351133317841\n"
          ]
        }
      ]
    },
    {
      "cell_type": "code",
      "source": [
        "# 7. Comparer avec la fonction mean_squared_error de sklearn\n",
        "mse_sklearn = mean_squared_error(y, lin_reg.predict(X_poly))\n",
        "print(\"MSE (sklearn):\", mse_sklearn)"
      ],
      "metadata": {
        "colab": {
          "base_uri": "https://localhost:8080/"
        },
        "id": "7BaIRlMUL-d3",
        "outputId": "dc663f71-61ec-4005-cc3c-28037589ca17"
      },
      "execution_count": null,
      "outputs": [
        {
          "output_type": "stream",
          "name": "stdout",
          "text": [
            "MSE (sklearn): 0.9268351133317841\n"
          ]
        }
      ]
    }
  ]
}