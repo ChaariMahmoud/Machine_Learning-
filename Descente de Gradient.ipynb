{
  "nbformat": 4,
  "nbformat_minor": 0,
  "metadata": {
    "colab": {
      "provenance": []
    },
    "kernelspec": {
      "name": "python3",
      "display_name": "Python 3"
    },
    "language_info": {
      "name": "python"
    }
  },
  "cells": [
    {
      "cell_type": "code",
      "execution_count": 2,
      "metadata": {
        "colab": {
          "base_uri": "https://localhost:8080/"
        },
        "id": "qrWgWGvKkdOp",
        "outputId": "7098aad0-15b9-4ad1-aa13-41e4b8302229"
      },
      "outputs": [
        {
          "output_type": "stream",
          "name": "stdout",
          "text": [
            "Paramètres theta obtenus par la descente de gradient : [[3.12286797]]\n",
            "Paramètres theta obtenus par SGDRegressor : [3.11878969]\n"
          ]
        }
      ],
      "source": [
        "#Partie 1\n",
        "import numpy as np\n",
        "# Fonction hypothèse h\n",
        "def hypothesis(X, theta):\n",
        "    return np.dot(X, theta)\n",
        "\n",
        "# Fonction coût J\n",
        "def cost_function(X, Y, theta):\n",
        "    m = len(Y)\n",
        "    error = hypothesis(X, theta) - Y\n",
        "    cost = (1/(2*m)) * np.dot(error.T, error)\n",
        "    return cost\n",
        "\n",
        "# Fonction gradient\n",
        "def gradient(X, Y, theta):\n",
        "    m = len(Y)\n",
        "    grad = (1/m) * np.dot(X.T, (hypothesis(X, theta) - Y))\n",
        "    return grad\n",
        "\n",
        "# Descente de gradient\n",
        "def gradient_descent(X, Y, lRate, n):\n",
        "    theta = np.zeros((X.shape[1], 1))\n",
        "    for _ in range(n):\n",
        "        grad = gradient(X, Y, theta)\n",
        "        theta = theta - lRate * grad\n",
        "    return theta\n",
        "\n",
        "# Génération de données\n",
        "X = 2 * np.random.randn(100, 1)\n",
        "Y = 4 + 3 * X + np.random.randn(100, 1)\n",
        "\n",
        "# Paramètres de l'algorithme\n",
        "lRate = 0.01\n",
        "n = 10000\n",
        "\n",
        "# Entraînement du modèle\n",
        "theta = gradient_descent(X, Y, lRate, n)\n",
        "print(\"Paramètres theta obtenus par la descente de gradient :\", theta)\n",
        "\n",
        "# Test de modèle avec SGDRegressor de sklearn\n",
        "from sklearn.linear_model import SGDRegressor\n",
        "\n",
        "# Création du modèle\n",
        "sgd_regressor = SGDRegressor(max_iter=10000, learning_rate='constant', eta0=lRate)\n",
        "\n",
        "# Entraînement du modèle\n",
        "sgd_regressor.fit(X, Y.ravel())\n",
        "\n",
        "# Affichage des paramètres obtenus par SGDRegressor\n",
        "print(\"Paramètres theta obtenus par SGDRegressor :\", sgd_regressor.coef_)"
      ]
    },
    {
      "cell_type": "code",
      "source": [
        "#Partie 2\n",
        "\n",
        "import matplotlib.pyplot as plt\n",
        "# Descente de gradient\n",
        "def gradient_descent(X, Y, lRate, n):\n",
        "    theta = np.zeros((X.shape[1], 1))\n",
        "    cost_history = np.zeros((n, 1))\n",
        "    for i in range(n):\n",
        "        grad = gradient(X, Y, theta)\n",
        "        theta = theta - lRate * grad\n",
        "        cost_history[i] = cost_function(X, Y, theta)\n",
        "    return theta, cost_history\n",
        "\n",
        "# Génération de données\n",
        "X = 2 * np.random.randn(100, 1)\n",
        "Y = 4 + 3 * X + np.random.randn(100, 1)\n",
        "\n",
        "# Paramètres de l'algorithme\n",
        "lRate = 0.01\n",
        "n = 10000\n",
        "\n",
        "# Entraînement du modèle\n",
        "theta, cost_history = gradient_descent(X, Y, lRate, n)\n",
        "\n",
        "# Affichage des paramètres theta obtenus par la descente de gradient\n",
        "print(\"Paramètres theta obtenus par la descente de gradient :\", theta)\n",
        "\n",
        "# Représentation de l'évolution de la fonction coût au fil des itérations\n",
        "plt.plot(cost_history)\n",
        "plt.xlabel('Iterations')\n",
        "plt.ylabel('Coût')\n",
        "plt.title('Evolution du coût lors de la descente de gradient')\n",
        "plt.show()"
      ],
      "metadata": {
        "colab": {
          "base_uri": "https://localhost:8080/",
          "height": 489
        },
        "id": "N5HwrNIQm5kp",
        "outputId": "3b7901a9-9427-4827-90f3-6068cb0e39d7"
      },
      "execution_count": 3,
      "outputs": [
        {
          "output_type": "stream",
          "name": "stdout",
          "text": [
            "Paramètres theta obtenus par la descente de gradient : [[3.27884638]]\n"
          ]
        },
        {
          "output_type": "display_data",
          "data": {
            "text/plain": [
              "<Figure size 640x480 with 1 Axes>"
            ],
            "image/png": "[encoded data removed]"
          },
          "metadata": {}
        }
      ]
    },
    {
      "cell_type": "code",
      "source": [
        "#Partie 3\n",
        "\n",
        "import numpy as np\n",
        "\n",
        "# Génération de données X avec 5 variables\n",
        "X = 2 * np.random.randn(100, 5)\n",
        "\n",
        "# Définition des coefficients de la relation de régression\n",
        "coefficients = np.array([2, 3, -4, 0.5, 0.1])\n",
        "\n",
        "# Génération des données Y en utilisant la relation de régression linéaire multiple\n",
        "Y = np.dot(X, coefficients) + np.random.randn(100)\n",
        "\n",
        "# Fonction hypothèse h pour régression linéaire multiple\n",
        "def hypothesis(X, theta):\n",
        "    return np.dot(X, theta)\n",
        "\n",
        "# Fonction coût J pour régression linéaire multiple\n",
        "def cost_function(X, Y, theta):\n",
        "    m = len(Y)\n",
        "    error = hypothesis(X, theta) - Y\n",
        "    cost = (1/(2*m)) * np.dot(error.T, error)\n",
        "    return cost\n",
        "\n",
        "# Fonction gradient pour régression linéaire multiple\n",
        "def gradient(X, Y, theta):\n",
        "    m = len(Y)\n",
        "    grad = (1/m) * np.dot(X.T, (hypothesis(X, theta) - Y))\n",
        "    return grad\n",
        "\n",
        "# Descente de gradient pour régression linéaire multiple\n",
        "def gradient_descent(X, Y, lRate, n):\n",
        "    theta = np.zeros(X.shape[1])\n",
        "    cost_history = []\n",
        "    for _ in range(n):\n",
        "        grad = gradient(X, Y, theta)\n",
        "        theta = theta - lRate * grad\n",
        "        cost_history.append(cost_function(X, Y, theta))\n",
        "    return theta, cost_history\n",
        "\n",
        "# Paramètres de l'algorithme\n",
        "lRate = 0.01\n",
        "n = 10000\n",
        "\n",
        "# Entraînement du modèle\n",
        "theta, cost_history = gradient_descent(X, Y, lRate, n)\n",
        "\n",
        "# Affichage des coefficients du modèle\n",
        "print(\"Coefficients du modèle obtenus par la descente de gradient :\", theta)\n"
      ],
      "metadata": {
        "colab": {
          "base_uri": "https://localhost:8080/"
        },
        "id": "B3UlmXYSnN-J",
        "outputId": "03077591-ae80-4e6e-bcd9-b84d3facde26"
      },
      "execution_count": 4,
      "outputs": [
        {
          "output_type": "stream",
          "name": "stdout",
          "text": [
            "Coefficients du modèle obtenus par la descente de gradient : [ 2.00558101  2.96174413 -3.92961103  0.54690158  0.10128529]\n"
          ]
        }
      ]
    }
  ]
}